{
 "cells": [
  {
   "cell_type": "code",
   "execution_count": 1,
   "id": "7ccd8c75",
   "metadata": {},
   "outputs": [],
   "source": [
    "import pandas as pd"
   ]
  },
  {
   "cell_type": "code",
   "execution_count": 3,
   "id": "e9d0429e",
   "metadata": {},
   "outputs": [],
   "source": [
    "data = pd.read_excel(\"WebScrapingXX2.xlsx\")"
   ]
  },
  {
   "cell_type": "code",
   "execution_count": 4,
   "id": "0b3f6a48",
   "metadata": {},
   "outputs": [
    {
     "data": {
      "text/plain": [
       "<bound method DataFrame.info of        Unnamed: 0  clasificados  \\\n",
       "0               0  La República   \n",
       "1               1  La República   \n",
       "2               2  La República   \n",
       "3               3  La República   \n",
       "4               4  La República   \n",
       "...           ...           ...   \n",
       "20740       20740    El Deporte   \n",
       "20741       20741    El Deporte   \n",
       "20742       20742    El Deporte   \n",
       "20743       20743    El Deporte   \n",
       "20744       20744    El Deporte   \n",
       "\n",
       "                                             descripcion       fecha  \\\n",
       "0      En diciembre de 2020 se han registrado alreded...  01/01/2021   \n",
       "1      A tempranas horas de la mañana del jueves 31 d...  01/01/2021   \n",
       "2      Los dominicanos han pasado la mayor parte del ...  01/01/2021   \n",
       "3      Dos maternidades de Santo Domingo se atribuyen...  01/01/2021   \n",
       "4      La Policía Nacional (PN) reportó que durante l...  01/01/2021   \n",
       "...                                                  ...         ...   \n",
       "20740  Los Golden State Warriors aplastaron este mart...  26/01/2022   \n",
       "20741  Samsung ha anunciado la celebración de su nuev...  26/01/2022   \n",
       "20742  El canciller Roberto Álvarez afirmó que el aum...  26/01/2022   \n",
       "20743  El Parlamento de Francia ha aprobado este mart...  26/01/2022   \n",
       "20744  De las 276 cintas estrenadas en 2021 que la Ac...  26/01/2022   \n",
       "\n",
       "              fuente                                               href  \\\n",
       "0      Listin Diario  https://listindiario.com/la-republica/2021/01/...   \n",
       "1      Listin Diario  https://listindiario.com/la-republica/2021/01/...   \n",
       "2      Listin Diario  https://listindiario.com/la-republica/2021/01/...   \n",
       "3      Listin Diario  https://listindiario.com/la-republica/2021/01/...   \n",
       "4      Listin Diario  https://listindiario.com/la-republica/2021/01/...   \n",
       "...              ...                                                ...   \n",
       "20740  Listin Diario  https://listindiario.com/el-deporte/2022/01/26...   \n",
       "20741  Listin Diario  https://listindiario.com/tecnologia/2022/01/26...   \n",
       "20742  Listin Diario  https://listindiario.com/la-republica/2022/01/...   \n",
       "20743  Listin Diario  https://listindiario.com/las-mundiales/2022/01...   \n",
       "20744  Listin Diario  https://listindiario.com/entretenimiento/2022/...   \n",
       "\n",
       "                                                   title  isDefensorDelPueblo  \n",
       "0      Al menos 39 personas han muerto en accidentes ...                  NaN  \n",
       "1      Así estuvo el flujo de ciudadanos que salieron...                  NaN  \n",
       "2      Más allá del coronavirus, seis hechos que marc...                  NaN  \n",
       "3      Dos maternidades de Santo Domingo se atribuyen...                  NaN  \n",
       "4      Policía Nacional detuvo a 2,700 ciudadanos por...                  NaN  \n",
       "...                                                  ...                  ...  \n",
       "20740                                                NaN                  NaN  \n",
       "20741                                                NaN                  NaN  \n",
       "20742                                                NaN                  NaN  \n",
       "20743                                                NaN                  NaN  \n",
       "20744                                                NaN                  NaN  \n",
       "\n",
       "[20745 rows x 8 columns]>"
      ]
     },
     "execution_count": 4,
     "metadata": {},
     "output_type": "execute_result"
    }
   ],
   "source": [
    "data.info"
   ]
  },
  {
   "cell_type": "code",
   "execution_count": 11,
   "id": "38b2993f",
   "metadata": {},
   "outputs": [],
   "source": [
    "new = data.fillna(\"\")"
   ]
  },
  {
   "cell_type": "code",
   "execution_count": 15,
   "id": "9dc879a1",
   "metadata": {},
   "outputs": [
    {
     "data": {
      "text/plain": [
       "<bound method DataFrame.info of        Unnamed: 0  clasificados  \\\n",
       "0               0  La República   \n",
       "1               1  La República   \n",
       "2               2  La República   \n",
       "3               3  La República   \n",
       "4               4  La República   \n",
       "...           ...           ...   \n",
       "20740       20740    El Deporte   \n",
       "20741       20741    El Deporte   \n",
       "20742       20742    El Deporte   \n",
       "20743       20743    El Deporte   \n",
       "20744       20744    El Deporte   \n",
       "\n",
       "                                             descripcion       fecha  \\\n",
       "0      En diciembre de 2020 se han registrado alreded...  01/01/2021   \n",
       "1      A tempranas horas de la mañana del jueves 31 d...  01/01/2021   \n",
       "2      Los dominicanos han pasado la mayor parte del ...  01/01/2021   \n",
       "3      Dos maternidades de Santo Domingo se atribuyen...  01/01/2021   \n",
       "4      La Policía Nacional (PN) reportó que durante l...  01/01/2021   \n",
       "...                                                  ...         ...   \n",
       "20740  Los Golden State Warriors aplastaron este mart...  26/01/2022   \n",
       "20741  Samsung ha anunciado la celebración de su nuev...  26/01/2022   \n",
       "20742  El canciller Roberto Álvarez afirmó que el aum...  26/01/2022   \n",
       "20743  El Parlamento de Francia ha aprobado este mart...  26/01/2022   \n",
       "20744  De las 276 cintas estrenadas en 2021 que la Ac...  26/01/2022   \n",
       "\n",
       "              fuente                                               href  \\\n",
       "0      Listin Diario  https://listindiario.com/la-republica/2021/01/...   \n",
       "1      Listin Diario  https://listindiario.com/la-republica/2021/01/...   \n",
       "2      Listin Diario  https://listindiario.com/la-republica/2021/01/...   \n",
       "3      Listin Diario  https://listindiario.com/la-republica/2021/01/...   \n",
       "4      Listin Diario  https://listindiario.com/la-republica/2021/01/...   \n",
       "...              ...                                                ...   \n",
       "20740  Listin Diario  https://listindiario.com/el-deporte/2022/01/26...   \n",
       "20741  Listin Diario  https://listindiario.com/tecnologia/2022/01/26...   \n",
       "20742  Listin Diario  https://listindiario.com/la-republica/2022/01/...   \n",
       "20743  Listin Diario  https://listindiario.com/las-mundiales/2022/01...   \n",
       "20744  Listin Diario  https://listindiario.com/entretenimiento/2022/...   \n",
       "\n",
       "                                                   title isDefensorDelPueblo  \n",
       "0      Al menos 39 personas han muerto en accidentes ...                      \n",
       "1      Así estuvo el flujo de ciudadanos que salieron...                      \n",
       "2      Más allá del coronavirus, seis hechos que marc...                      \n",
       "3      Dos maternidades de Santo Domingo se atribuyen...                      \n",
       "4      Policía Nacional detuvo a 2,700 ciudadanos por...                      \n",
       "...                                                  ...                 ...  \n",
       "20740                                                                         \n",
       "20741                                                                         \n",
       "20742                                                                         \n",
       "20743                                                                         \n",
       "20744                                                                         \n",
       "\n",
       "[20745 rows x 8 columns]>"
      ]
     },
     "execution_count": 15,
     "metadata": {},
     "output_type": "execute_result"
    }
   ],
   "source": [
    "new.info"
   ]
  },
  {
   "cell_type": "code",
   "execution_count": null,
   "id": "c2f9636b",
   "metadata": {},
   "outputs": [],
   "source": []
  }
 ],
 "metadata": {
  "kernelspec": {
   "display_name": "Python 3",
   "language": "python",
   "name": "python3"
  },
  "language_info": {
   "codemirror_mode": {
    "name": "ipython",
    "version": 3
   },
   "file_extension": ".py",
   "mimetype": "text/x-python",
   "name": "python",
   "nbconvert_exporter": "python",
   "pygments_lexer": "ipython3",
   "version": "3.8.8"
  }
 },
 "nbformat": 4,
 "nbformat_minor": 5
}
